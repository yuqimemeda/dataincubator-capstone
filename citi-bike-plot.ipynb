{
 "cells": [
  {
   "cell_type": "code",
   "execution_count": 12,
   "metadata": {
    "collapsed": false
   },
   "outputs": [
    {
     "ename": "TypeError",
     "evalue": "cannot convert the series to <type 'float'>",
     "output_type": "error",
     "traceback": [
      "\u001b[0;31m---------------------------------------------------------------------------\u001b[0m",
      "\u001b[0;31mTypeError\u001b[0m                                 Traceback (most recent call last)",
      "\u001b[0;32m<ipython-input-12-5a3dd4cf7816>\u001b[0m in \u001b[0;36m<module>\u001b[0;34m()\u001b[0m\n\u001b[1;32m      8\u001b[0m \u001b[0mdf\u001b[0m \u001b[0;34m=\u001b[0m \u001b[0mpd\u001b[0m\u001b[0;34m.\u001b[0m\u001b[0mread_csv\u001b[0m\u001b[0;34m(\u001b[0m\u001b[0;34m'/Users/YuqiGuo/Python_Course/Final_Project/data_summary.csv'\u001b[0m\u001b[0;34m,\u001b[0m\u001b[0mparse_dates\u001b[0m\u001b[0;34m=\u001b[0m\u001b[0;34m[\u001b[0m\u001b[0;34m'Date'\u001b[0m\u001b[0;34m]\u001b[0m\u001b[0;34m,\u001b[0m\u001b[0minfer_datetime_format\u001b[0m\u001b[0;34m=\u001b[0m\u001b[0mTrue\u001b[0m\u001b[0;34m)\u001b[0m\u001b[0;34m\u001b[0m\u001b[0m\n\u001b[1;32m      9\u001b[0m \u001b[0mdf\u001b[0m\u001b[0;34m.\u001b[0m\u001b[0mhead\u001b[0m\u001b[0;34m(\u001b[0m\u001b[0;34m)\u001b[0m\u001b[0;34m\u001b[0m\u001b[0m\n\u001b[0;32m---> 10\u001b[0;31m \u001b[0mdf\u001b[0m\u001b[0;34m[\u001b[0m\u001b[0;34m'Miles_per_trip'\u001b[0m\u001b[0;34m]\u001b[0m\u001b[0;34m=\u001b[0m\u001b[0mfloat\u001b[0m\u001b[0;34m(\u001b[0m\u001b[0mdf\u001b[0m\u001b[0;34m.\u001b[0m\u001b[0mMiles_day\u001b[0m\u001b[0;34m/\u001b[0m\u001b[0mdf\u001b[0m\u001b[0;34m.\u001b[0m\u001b[0mTrips\u001b[0m\u001b[0;34m)\u001b[0m\u001b[0;34m\u001b[0m\u001b[0m\n\u001b[0m",
      "\u001b[0;32m//anaconda/lib/python2.7/site-packages/pandas/core/series.pyc\u001b[0m in \u001b[0;36mwrapper\u001b[0;34m(self)\u001b[0m\n\u001b[1;32m     78\u001b[0m             \u001b[0;32mreturn\u001b[0m \u001b[0mconverter\u001b[0m\u001b[0;34m(\u001b[0m\u001b[0mself\u001b[0m\u001b[0;34m.\u001b[0m\u001b[0miloc\u001b[0m\u001b[0;34m[\u001b[0m\u001b[0;36m0\u001b[0m\u001b[0;34m]\u001b[0m\u001b[0;34m)\u001b[0m\u001b[0;34m\u001b[0m\u001b[0m\n\u001b[1;32m     79\u001b[0m         raise TypeError(\"cannot convert the series to \"\n\u001b[0;32m---> 80\u001b[0;31m                         \"{0}\".format(str(converter)))\n\u001b[0m\u001b[1;32m     81\u001b[0m \u001b[0;34m\u001b[0m\u001b[0m\n\u001b[1;32m     82\u001b[0m     \u001b[0;32mreturn\u001b[0m \u001b[0mwrapper\u001b[0m\u001b[0;34m\u001b[0m\u001b[0m\n",
      "\u001b[0;31mTypeError\u001b[0m: cannot convert the series to <type 'float'>"
     ]
    }
   ],
   "source": [
    "import numpy as np\n",
    "import pandas as pd\n",
    "\n",
    "import plotly.plotly as py\n",
    "py.sign_in('yuqimemeda', \"pk4usp8314\")\n",
    "import plotly.graph_objs as go\n",
    "\n",
    "df = pd.read_csv('/Users/YuqiGuo/Python_Course/Final_Project/data_summary.csv',parse_dates=['Date'],infer_datetime_format=True)\n",
    "df.head()\n"
   ]
  },
  {
   "cell_type": "code",
   "execution_count": 13,
   "metadata": {
    "collapsed": true
   },
   "outputs": [],
   "source": [
    "df['Miles_per_trip']=df.Miles_day/df.Trips"
   ]
  },
  {
   "cell_type": "code",
   "execution_count": 14,
   "metadata": {
    "collapsed": false
   },
   "outputs": [
    {
     "data": {
      "text/html": [
       "<div>\n",
       "<table border=\"1\" class=\"dataframe\">\n",
       "  <thead>\n",
       "    <tr style=\"text-align: right;\">\n",
       "      <th></th>\n",
       "      <th>Date</th>\n",
       "      <th>Trips</th>\n",
       "      <th>Cumulative_trips</th>\n",
       "      <th>Miles_day</th>\n",
       "      <th>Miles_traveled_to _date</th>\n",
       "      <th>Total_Annual_Members</th>\n",
       "      <th>one_day_pass</th>\n",
       "      <th>7_Day_Passes</th>\n",
       "      <th>Miles_per_trip</th>\n",
       "    </tr>\n",
       "  </thead>\n",
       "  <tbody>\n",
       "    <tr>\n",
       "      <th>0</th>\n",
       "      <td>2015-01-01</td>\n",
       "      <td>5792</td>\n",
       "      <td>15216843</td>\n",
       "      <td>9191</td>\n",
       "      <td>26055797</td>\n",
       "      <td>127279</td>\n",
       "      <td>267</td>\n",
       "      <td>11</td>\n",
       "      <td>1.586844</td>\n",
       "    </tr>\n",
       "    <tr>\n",
       "      <th>1</th>\n",
       "      <td>2015-01-02</td>\n",
       "      <td>12371</td>\n",
       "      <td>15229214</td>\n",
       "      <td>18222</td>\n",
       "      <td>26074019</td>\n",
       "      <td>127293</td>\n",
       "      <td>298</td>\n",
       "      <td>8</td>\n",
       "      <td>1.472961</td>\n",
       "    </tr>\n",
       "    <tr>\n",
       "      <th>2</th>\n",
       "      <td>2015-01-03</td>\n",
       "      <td>4834</td>\n",
       "      <td>15234048</td>\n",
       "      <td>6282</td>\n",
       "      <td>26080301</td>\n",
       "      <td>127300</td>\n",
       "      <td>96</td>\n",
       "      <td>7</td>\n",
       "      <td>1.299545</td>\n",
       "    </tr>\n",
       "    <tr>\n",
       "      <th>3</th>\n",
       "      <td>2015-01-04</td>\n",
       "      <td>8509</td>\n",
       "      <td>15242557</td>\n",
       "      <td>11700</td>\n",
       "      <td>26092001</td>\n",
       "      <td>127308</td>\n",
       "      <td>152</td>\n",
       "      <td>5</td>\n",
       "      <td>1.375015</td>\n",
       "    </tr>\n",
       "    <tr>\n",
       "      <th>4</th>\n",
       "      <td>2015-01-05</td>\n",
       "      <td>15792</td>\n",
       "      <td>15258349</td>\n",
       "      <td>20022</td>\n",
       "      <td>26112023</td>\n",
       "      <td>127336</td>\n",
       "      <td>88</td>\n",
       "      <td>12</td>\n",
       "      <td>1.267857</td>\n",
       "    </tr>\n",
       "  </tbody>\n",
       "</table>\n",
       "</div>"
      ],
      "text/plain": [
       "        Date  Trips  Cumulative_trips  Miles_day  Miles_traveled_to _date  \\\n",
       "0 2015-01-01   5792          15216843       9191                 26055797   \n",
       "1 2015-01-02  12371          15229214      18222                 26074019   \n",
       "2 2015-01-03   4834          15234048       6282                 26080301   \n",
       "3 2015-01-04   8509          15242557      11700                 26092001   \n",
       "4 2015-01-05  15792          15258349      20022                 26112023   \n",
       "\n",
       "   Total_Annual_Members   one_day_pass 7_Day_Passes  Miles_per_trip  \n",
       "0                 127279           267           11        1.586844  \n",
       "1                 127293           298            8        1.472961  \n",
       "2                 127300            96            7        1.299545  \n",
       "3                 127308           152            5        1.375015  \n",
       "4                 127336            88           12        1.267857  "
      ]
     },
     "execution_count": 14,
     "metadata": {},
     "output_type": "execute_result"
    }
   ],
   "source": [
    "df.head()"
   ]
  },
  {
   "cell_type": "code",
   "execution_count": 11,
   "metadata": {
    "collapsed": false
   },
   "outputs": [
    {
     "data": {
      "text/html": [
       "<iframe id=\"igraph\" scrolling=\"no\" style=\"border:none;\" seamless=\"seamless\" src=\"https://plot.ly/~yuqimemeda/6.embed\" height=\"525px\" width=\"100%\"></iframe>"
      ],
      "text/plain": [
       "<plotly.tools.PlotlyDisplay object>"
      ]
     },
     "execution_count": 11,
     "metadata": {},
     "output_type": "execute_result"
    }
   ],
   "source": [
    "import plotly.plotly as py\n",
    "py.sign_in('yuqimemeda', \"pk4usp8314\")\n",
    "import plotly.graph_objs as go\n",
    "\n",
    "\n",
    "data = [\n",
    "    go.Bar(\n",
    "        x=df[\"Date\"],\n",
    "        y=df[\"Miles_day\"],\n",
    "        marker=dict(\n",
    "            color='rgb(30,144,255)'\n",
    "        )\n",
    "    )\n",
    "]\n",
    "\n",
    "layout = go.Layout(\n",
    "    title='Miles Per Day in 2015',\n",
    "    font=dict(\n",
    "        family='Raleway, sans-serif'\n",
    "    ),\n",
    "    showlegend=False,\n",
    "    xaxis=dict(\n",
    "        tickangle=-45,\n",
    "        tickmode=\"array\",\n",
    "        dtick=14,\n",
    "        nticks=31,\n",
    "        ticks=\"outside\",\n",
    "        tickcolor=\"rgb(255, 127, 14)\"\n",
    "    ),\n",
    "    yaxis=dict(\n",
    "        zeroline=False,\n",
    "        gridwidth=2,\n",
    "    tickfont=dict(\n",
    "            size=15,\n",
    "    )),\n",
    "    bargap=0.05\n",
    ")\n",
    "fig = go.Figure(data=data, layout=layout)\n",
    "py.iplot(fig, filename='miles per day')"
   ]
  },
  {
   "cell_type": "code",
   "execution_count": 18,
   "metadata": {
    "collapsed": false
   },
   "outputs": [
    {
     "data": {
      "text/html": [
       "<iframe id=\"igraph\" scrolling=\"no\" style=\"border:none;\" seamless=\"seamless\" src=\"https://plot.ly/~yuqimemeda/8.embed\" height=\"525px\" width=\"100%\"></iframe>"
      ],
      "text/plain": [
       "<plotly.tools.PlotlyDisplay object>"
      ]
     },
     "execution_count": 18,
     "metadata": {},
     "output_type": "execute_result"
    }
   ],
   "source": [
    "\n",
    "data = [\n",
    "    go.Bar(\n",
    "        x=df[\"Date\"],\n",
    "        y=df[\"Miles_per_trip\"],\n",
    "        marker=dict(\n",
    "            color='rgb(30,144,255)'\n",
    "        )\n",
    "    )\n",
    "]\n",
    "\n",
    "layout = go.Layout(\n",
    "    title='Daily Miles Per Trip in 2015',\n",
    "    font=dict(\n",
    "        family='Raleway, sans-serif'\n",
    "    ),\n",
    "    showlegend=False,\n",
    "    xaxis=dict(\n",
    "        tickangle=-45,\n",
    "        tickmode=\"array\",\n",
    "        dtick=14,\n",
    "        nticks=31,\n",
    "        ticks=\"outside\",\n",
    "        tickcolor=\"rgb(255, 127, 14)\"\n",
    "    ),\n",
    "    yaxis=dict(\n",
    "        zeroline=False,\n",
    "        gridwidth=2,\n",
    "    tickfont=dict(\n",
    "            size=15,\n",
    "    )),\n",
    "    bargap=0.05\n",
    ")\n",
    "fig = go.Figure(data=data, layout=layout)\n",
    "py.iplot(fig, filename='miles per trip')"
   ]
  },
  {
   "cell_type": "code",
   "execution_count": 20,
   "metadata": {
    "collapsed": false
   },
   "outputs": [
    {
     "data": {
      "text/html": [
       "<iframe id=\"igraph\" scrolling=\"no\" style=\"border:none;\" seamless=\"seamless\" src=\"https://plot.ly/~yuqimemeda/10.embed\" height=\"525px\" width=\"100%\"></iframe>"
      ],
      "text/plain": [
       "<plotly.tools.PlotlyDisplay object>"
      ]
     },
     "execution_count": 20,
     "metadata": {},
     "output_type": "execute_result"
    }
   ],
   "source": [
    "\n",
    "data = [\n",
    "    go.Bar(\n",
    "        x=df[\"Date\"],\n",
    "        y=df[\"one_day_pass\"],\n",
    "        marker=dict(\n",
    "            color='rgb(255,99,71)'\n",
    "        )\n",
    "    )\n",
    "]\n",
    "\n",
    "layout = go.Layout(\n",
    "    title='Daily Sales of One-Day Pass',\n",
    "    font=dict(\n",
    "        family='Raleway, sans-serif'\n",
    "    ),\n",
    "    showlegend=False,\n",
    "    xaxis=dict(\n",
    "        tickangle=-45,\n",
    "        tickmode=\"array\",\n",
    "        dtick=14,\n",
    "        nticks=31,\n",
    "        ticks=\"outside\",\n",
    "        tickcolor=\"rgb(255, 127, 14)\"\n",
    "    ),\n",
    "    yaxis=dict(\n",
    "        zeroline=False,\n",
    "        gridwidth=2,\n",
    "    tickfont=dict(\n",
    "            size=15,\n",
    "    )),\n",
    "    bargap=0.05\n",
    ")\n",
    "fig = go.Figure(data=data, layout=layout)\n",
    "py.iplot(fig, filename='sales of one day pass')"
   ]
  },
  {
   "cell_type": "code",
   "execution_count": 22,
   "metadata": {
    "collapsed": false
   },
   "outputs": [
    {
     "data": {
      "text/html": [
       "<iframe id=\"igraph\" scrolling=\"no\" style=\"border:none;\" seamless=\"seamless\" src=\"https://plot.ly/~yuqimemeda/12.embed\" height=\"525px\" width=\"100%\"></iframe>"
      ],
      "text/plain": [
       "<plotly.tools.PlotlyDisplay object>"
      ]
     },
     "execution_count": 22,
     "metadata": {},
     "output_type": "execute_result"
    }
   ],
   "source": [
    "data = [\n",
    "    go.Bar(\n",
    "        x=df[\"Date\"],\n",
    "        y=df[\"7_Day_Passes\"],\n",
    "        marker=dict(\n",
    "            color='rgb(255,99,71)'\n",
    "        )\n",
    "    )\n",
    "]\n",
    "\n",
    "layout = go.Layout(\n",
    "    title='Daily Sales of One-Week Pass',\n",
    "    font=dict(\n",
    "        family='Raleway, sans-serif'\n",
    "    ),\n",
    "    showlegend=False,\n",
    "    xaxis=dict(\n",
    "        tickangle=-45,\n",
    "        tickmode=\"array\",\n",
    "        dtick=14,\n",
    "        nticks=31,\n",
    "        ticks=\"outside\",\n",
    "        tickcolor=\"rgb(255, 127, 14)\"\n",
    "    ),\n",
    "    yaxis=dict(\n",
    "        zeroline=False,\n",
    "        gridwidth=2,\n",
    "    tickfont=dict(\n",
    "            size=15,\n",
    "    )),\n",
    "    bargap=0.05\n",
    ")\n",
    "fig = go.Figure(data=data, layout=layout)\n",
    "py.iplot(fig, filename='sales of one week pass')"
   ]
  }
 ],
 "metadata": {
  "kernelspec": {
   "display_name": "Python 2",
   "language": "python",
   "name": "python2"
  },
  "language_info": {
   "codemirror_mode": {
    "name": "ipython",
    "version": 2
   },
   "file_extension": ".py",
   "mimetype": "text/x-python",
   "name": "python",
   "nbconvert_exporter": "python",
   "pygments_lexer": "ipython2",
   "version": "2.7.11"
  }
 },
 "nbformat": 4,
 "nbformat_minor": 0
}
